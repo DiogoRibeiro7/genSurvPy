{
 "cells": [
  {
   "cell_type": "code",
   "metadata": {},
   "source": [
    "import numpy as np\n",
    "import matplotlib.pyplot as plt\n",
    "from gen_surv import generate\n",
    "\n",
    "np.random.seed(0)\n",
    "df = generate(\n",
    "    model=\"cmm\",\n",
    "    n=200,\n",
    "    model_cens=\"exponential\",\n",
    "    cens_par=2.0,\n",
    "    beta=[0.1, 0.2, 0.3],\n",
    "    covariate_range=1.0,\n",
    "    rate=[0.1, 1.0, 0.2, 1.0, 0.1, 1.0],\n",
    ")\n",
    "df.head()\n",
    "plt.hist(df['stop'], bins=20, color='#4C72B0')\n",
    "plt.xlabel('Time')\n",
    "plt.ylabel('Frequency')\n",
    "plt.title('CMM Transition Times')\n",
    "plt.show()\n"
   ],
   "outputs": [],
   "execution_count": null
  }
 ],
 "metadata": {
  "kernelspec": {
   "display_name": "Python 3",
   "language": "python",
   "name": "python3"
  },
  "language_info": {
   "name": "python",
   "version": "3.12"
  }
 },
 "nbformat": 4,
 "nbformat_minor": 5
}
