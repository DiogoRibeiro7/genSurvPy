{
 "cells": [
  {
   "cell_type": "code",
   "metadata": {},
   "source": [
    "import numpy as np\n",
    "import matplotlib.pyplot as plt\n",
    "from gen_surv import generate\n",
    "\n",
    "np.random.seed(0)\n",
    "df = generate(\n",
    "    model=\"tdcm\",\n",
    "    n=200,\n",
    "    dist=\"weibull\",\n",
    "    corr=0.5,\n",
    "    dist_par=[1, 2, 1, 2],\n",
    "    model_cens=\"uniform\",\n",
    "    cens_par=1.0,\n",
    "    beta=[0.1, 0.2, 0.3],\n",
    "    lam=1.0,\n",
    ")\n",
    "df.head()\n",
    "plt.hist(df['stop'], bins=20, color='#4C72B0')\n",
    "plt.xlabel('Time')\n",
    "plt.ylabel('Frequency')\n",
    "plt.title('TDCM Event Times')\n",
    "plt.show()\n"
   ],
   "outputs": [],
   "execution_count": null
  }
 ],
 "metadata": {
  "kernelspec": {
   "display_name": "Python 3",
   "language": "python",
   "name": "python3"
  },
  "language_info": {
   "name": "python",
   "version": "3.12"
  }
 },
 "nbformat": 4,
 "nbformat_minor": 5
}
